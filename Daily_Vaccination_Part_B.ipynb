{
 "cells": [
  {
   "cell_type": "code",
   "execution_count": 85,
   "id": "48504a0c",
   "metadata": {},
   "outputs": [],
   "source": [
    "import pandas as pd\n",
    "import numpy as np\n",
    "import math"
   ]
  },
  {
   "cell_type": "code",
   "execution_count": 3,
   "id": "3d479a14",
   "metadata": {},
   "outputs": [],
   "source": [
    "data_set = pd.read_csv(\"country_vaccination_stats.csv\")\n"
   ]
  },
  {
   "cell_type": "code",
   "execution_count": 4,
   "id": "6fab1796",
   "metadata": {},
   "outputs": [
    {
     "data": {
      "text/html": [
       "<div>\n",
       "<style scoped>\n",
       "    .dataframe tbody tr th:only-of-type {\n",
       "        vertical-align: middle;\n",
       "    }\n",
       "\n",
       "    .dataframe tbody tr th {\n",
       "        vertical-align: top;\n",
       "    }\n",
       "\n",
       "    .dataframe thead th {\n",
       "        text-align: right;\n",
       "    }\n",
       "</style>\n",
       "<table border=\"1\" class=\"dataframe\">\n",
       "  <thead>\n",
       "    <tr style=\"text-align: right;\">\n",
       "      <th></th>\n",
       "      <th>country</th>\n",
       "      <th>date</th>\n",
       "      <th>daily_vaccinations</th>\n",
       "      <th>vaccines</th>\n",
       "    </tr>\n",
       "  </thead>\n",
       "  <tbody>\n",
       "    <tr>\n",
       "      <th>0</th>\n",
       "      <td>Argentina</td>\n",
       "      <td>12/29/2020</td>\n",
       "      <td>NaN</td>\n",
       "      <td>Sputnik V</td>\n",
       "    </tr>\n",
       "    <tr>\n",
       "      <th>1</th>\n",
       "      <td>Argentina</td>\n",
       "      <td>12/30/2020</td>\n",
       "      <td>15656.0</td>\n",
       "      <td>Sputnik V</td>\n",
       "    </tr>\n",
       "    <tr>\n",
       "      <th>2</th>\n",
       "      <td>Argentina</td>\n",
       "      <td>12/31/2020</td>\n",
       "      <td>15656.0</td>\n",
       "      <td>Sputnik V</td>\n",
       "    </tr>\n",
       "    <tr>\n",
       "      <th>3</th>\n",
       "      <td>Argentina</td>\n",
       "      <td>1/1/2021</td>\n",
       "      <td>11070.0</td>\n",
       "      <td>Sputnik V</td>\n",
       "    </tr>\n",
       "    <tr>\n",
       "      <th>4</th>\n",
       "      <td>Argentina</td>\n",
       "      <td>1/2/2021</td>\n",
       "      <td>8776.0</td>\n",
       "      <td>Sputnik V</td>\n",
       "    </tr>\n",
       "    <tr>\n",
       "      <th>...</th>\n",
       "      <td>...</td>\n",
       "      <td>...</td>\n",
       "      <td>...</td>\n",
       "      <td>...</td>\n",
       "    </tr>\n",
       "    <tr>\n",
       "      <th>1497</th>\n",
       "      <td>Wales</td>\n",
       "      <td>1/20/2021</td>\n",
       "      <td>11105.0</td>\n",
       "      <td>Oxford/AstraZeneca, Pfizer/BioNTech</td>\n",
       "    </tr>\n",
       "    <tr>\n",
       "      <th>1498</th>\n",
       "      <td>Wales</td>\n",
       "      <td>1/21/2021</td>\n",
       "      <td>12318.0</td>\n",
       "      <td>Oxford/AstraZeneca, Pfizer/BioNTech</td>\n",
       "    </tr>\n",
       "    <tr>\n",
       "      <th>1499</th>\n",
       "      <td>Wales</td>\n",
       "      <td>1/22/2021</td>\n",
       "      <td>15148.0</td>\n",
       "      <td>Oxford/AstraZeneca, Pfizer/BioNTech</td>\n",
       "    </tr>\n",
       "    <tr>\n",
       "      <th>1500</th>\n",
       "      <td>Wales</td>\n",
       "      <td>1/23/2021</td>\n",
       "      <td>17371.0</td>\n",
       "      <td>Oxford/AstraZeneca, Pfizer/BioNTech</td>\n",
       "    </tr>\n",
       "    <tr>\n",
       "      <th>1501</th>\n",
       "      <td>Wales</td>\n",
       "      <td>1/24/2021</td>\n",
       "      <td>17063.0</td>\n",
       "      <td>Oxford/AstraZeneca, Pfizer/BioNTech</td>\n",
       "    </tr>\n",
       "  </tbody>\n",
       "</table>\n",
       "<p>1502 rows × 4 columns</p>\n",
       "</div>"
      ],
      "text/plain": [
       "        country        date  daily_vaccinations  \\\n",
       "0     Argentina  12/29/2020                 NaN   \n",
       "1     Argentina  12/30/2020             15656.0   \n",
       "2     Argentina  12/31/2020             15656.0   \n",
       "3     Argentina    1/1/2021             11070.0   \n",
       "4     Argentina    1/2/2021              8776.0   \n",
       "...         ...         ...                 ...   \n",
       "1497      Wales   1/20/2021             11105.0   \n",
       "1498      Wales   1/21/2021             12318.0   \n",
       "1499      Wales   1/22/2021             15148.0   \n",
       "1500      Wales   1/23/2021             17371.0   \n",
       "1501      Wales   1/24/2021             17063.0   \n",
       "\n",
       "                                 vaccines  \n",
       "0                               Sputnik V  \n",
       "1                               Sputnik V  \n",
       "2                               Sputnik V  \n",
       "3                               Sputnik V  \n",
       "4                               Sputnik V  \n",
       "...                                   ...  \n",
       "1497  Oxford/AstraZeneca, Pfizer/BioNTech  \n",
       "1498  Oxford/AstraZeneca, Pfizer/BioNTech  \n",
       "1499  Oxford/AstraZeneca, Pfizer/BioNTech  \n",
       "1500  Oxford/AstraZeneca, Pfizer/BioNTech  \n",
       "1501  Oxford/AstraZeneca, Pfizer/BioNTech  \n",
       "\n",
       "[1502 rows x 4 columns]"
      ]
     },
     "execution_count": 4,
     "metadata": {},
     "output_type": "execute_result"
    }
   ],
   "source": [
    "data_set"
   ]
  },
  {
   "cell_type": "code",
   "execution_count": 5,
   "id": "3b5979f0",
   "metadata": {},
   "outputs": [],
   "source": [
    "# Detects the number of different countries in the list\n",
    "country = data_set.iloc[0,0]\n",
    "country_count = 1\n",
    "for i in range(len(data_set)):\n",
    "    if (data_set.iloc[i,0] != country):\n",
    "        country_count = country_count + 1\n",
    "        country = data_set.iloc[i,0]"
   ]
  },
  {
   "cell_type": "code",
   "execution_count": 146,
   "id": "b2a58052",
   "metadata": {},
   "outputs": [],
   "source": [
    "# Creates an array which is made out of minimum daily vaccinations for every country\n",
    "countries = [\"\" for x in range(country_count)]\n",
    "\n",
    "constant = 1000000000000\n",
    "country_mins = np.zeros((country_count)) + constant\n",
    "countries[0] = data_set.iloc[0,0]\n",
    "counter = 0\n",
    "country = data_set.iloc[0,0]\n",
    "\n",
    "for i in range(len(data_set)):\n",
    "    if (data_set.iloc[i,0] != country):\n",
    "        counter = counter + 1\n",
    "        countries[counter] = data_set.iloc[i,0]\n",
    "        country = data_set.iloc[i,0]\n",
    "        \n",
    "    if (pd.notnull(data_set.iloc[i,2])):\n",
    "        if (data_set.iloc[i,2] <= country_mins[counter]):\n",
    "            country_mins[counter] = data_set.iloc[i,2]\n",
    "\n",
    "for i in range(country_count):\n",
    "    if (country_mins[i] == constant):\n",
    "        country_mins[i] = 0.0\n"
   ]
  },
  {
   "cell_type": "code",
   "execution_count": 7,
   "id": "baa52d8e",
   "metadata": {},
   "outputs": [],
   "source": [
    "# Fills the unvalid daily vaccination numbers\n",
    "country = data_set.iloc[0,0]\n",
    "counter = 0\n",
    "\n",
    "for i in range(len(data_set)):\n",
    "    if (data_set.iloc[i,0] != country):\n",
    "        country = data_set.iloc[i,0]\n",
    "        counter = counter + 1\n",
    "    if (pd.isnull(data_set.iloc[i,2])):\n",
    "        data_set.iloc[i,2] = country_mins[counter]"
   ]
  },
  {
   "cell_type": "code",
   "execution_count": 46,
   "id": "dab02924",
   "metadata": {},
   "outputs": [],
   "source": [
    "# Records of the indexes where country changes\n",
    "country_indexes = np.zeros(60)\n",
    "counter = 0 \n",
    "country = data_set.iloc[0,0]\n",
    "\n",
    "for i in range(len(data_set)):\n",
    "    if (data_set.iloc[i,0] != country):\n",
    "        country = data_set.iloc[i,0]\n",
    "        country_indexes[counter] = i\n",
    "        counter = counter + 1\n",
    "\n",
    "country_indexes[59] = len(data_set)\n",
    "country_indexes = country_indexes.astype(int)"
   ]
  },
  {
   "cell_type": "code",
   "execution_count": 121,
   "id": "4aa2ca76",
   "metadata": {},
   "outputs": [
    {
     "data": {
      "text/plain": [
       "array([  28,   48,   77,  103,  113,  141,  184,  217,  254,  280,  307,\n",
       "        324,  354,  384,  386,  422,  451,  477,  499,  528,  543,  572,\n",
       "        600,  627,  638,  652,  677,  682,  720,  750,  751,  780,  812,\n",
       "        838,  866,  899,  916,  959,  988, 1016, 1022, 1050, 1079, 1108,\n",
       "       1138, 1150, 1193, 1211, 1226, 1238, 1256, 1278, 1300, 1322, 1352,\n",
       "       1365, 1386, 1422, 1459, 1502])"
      ]
     },
     "execution_count": 121,
     "metadata": {},
     "output_type": "execute_result"
    }
   ],
   "source": [
    "country_indexes"
   ]
  },
  {
   "cell_type": "code",
   "execution_count": 122,
   "id": "4c4ab45c",
   "metadata": {},
   "outputs": [],
   "source": [
    "country_medians = np.zeros(country_count)\n",
    "\n",
    "temp_arr = np.sort(data_set.iloc[0:country_indexes[0],2])\n",
    "country_medians[0] = temp_arr[int(len(temp_arr)/2)]\n",
    "\n",
    "for i in range(country_count-1):\n",
    "    temp_arr = np.sort(data_set.iloc[country_indexes[i]:country_indexes[i+1],2])\n",
    "    if (len(temp_arr) > 1):\n",
    "        country_medians[i+1] = (temp_arr[(math.ceil(len(temp_arr)/2))] + temp_arr[(math.ceil(len(temp_arr)/2))]) / 2\n",
    "    else:\n",
    "        country_medians[i+1] = temp_arr[0]"
   ]
  },
  {
   "cell_type": "code",
   "execution_count": 152,
   "id": "1237db59",
   "metadata": {},
   "outputs": [],
   "source": [
    "sorted_medians = np.sort(country_medians)\n",
    "\n",
    "result = np.where(country_medians == sorted_medians[len(sorted_medians)-1])\n",
    "max_1 = countries[result[0][0]]\n",
    "\n",
    "result = np.where(country_medians == sorted_medians[len(sorted_medians)-2])\n",
    "max_2 = countries[result[0][0]]\n",
    "\n",
    "result = np.where(country_medians == sorted_medians[len(sorted_medians)-3])\n",
    "max_3 = countries[result[0][0]]"
   ]
  },
  {
   "cell_type": "code",
   "execution_count": 155,
   "id": "ed89dee4",
   "metadata": {},
   "outputs": [
    {
     "name": "stdout",
     "output_type": "stream",
     "text": [
      "Countries with most daily vaccinations:\n",
      "1- United States\n",
      "2- China\n",
      "3- India\n"
     ]
    }
   ],
   "source": [
    "print(\"Countries with most daily vaccinations:\")\n",
    "print(\"1-\",max_1)\n",
    "print(\"2-\",max_2)\n",
    "print(\"3-\",max_3)"
   ]
  }
 ],
 "metadata": {
  "kernelspec": {
   "display_name": "Python 3",
   "language": "python",
   "name": "python3"
  },
  "language_info": {
   "codemirror_mode": {
    "name": "ipython",
    "version": 3
   },
   "file_extension": ".py",
   "mimetype": "text/x-python",
   "name": "python",
   "nbconvert_exporter": "python",
   "pygments_lexer": "ipython3",
   "version": "3.8.8"
  }
 },
 "nbformat": 4,
 "nbformat_minor": 5
}
