{
 "cells": [
  {
   "cell_type": "code",
   "execution_count": 5,
   "id": "054524b1",
   "metadata": {},
   "outputs": [],
   "source": [
    "import numpy as np\n",
    "import pandas as pd"
   ]
  },
  {
   "cell_type": "code",
   "execution_count": 6,
   "id": "dc7ed824",
   "metadata": {},
   "outputs": [],
   "source": [
    "#No links or files were given for this assignment so I will be leaving the parts empty where it should be a file name\n",
    "data_set = pd.read_excel(\"example.xlsx\")"
   ]
  },
  {
   "cell_type": "code",
   "execution_count": 11,
   "id": "3940553b",
   "metadata": {},
   "outputs": [],
   "source": [
    "data_set = data_set[0:5]"
   ]
  },
  {
   "cell_type": "code",
   "execution_count": 40,
   "id": "b151faaa",
   "metadata": {},
   "outputs": [],
   "source": [
    "for i in range(len(data_set)):\n",
    "    temp_text = data_set.iloc[i,1]\n",
    "    text = temp_text.split(\"://\")\n",
    "    text = text[1].split(\".com\")\n",
    "    text = text[0] + \".com\"\n",
    "    data_set.iloc[i,1] = text"
   ]
  },
  {
   "cell_type": "code",
   "execution_count": 41,
   "id": "140bc658",
   "metadata": {},
   "outputs": [
    {
     "data": {
      "text/html": [
       "<div>\n",
       "<style scoped>\n",
       "    .dataframe tbody tr th:only-of-type {\n",
       "        vertical-align: middle;\n",
       "    }\n",
       "\n",
       "    .dataframe tbody tr th {\n",
       "        vertical-align: top;\n",
       "    }\n",
       "\n",
       "    .dataframe thead th {\n",
       "        text-align: right;\n",
       "    }\n",
       "</style>\n",
       "<table border=\"1\" class=\"dataframe\">\n",
       "  <thead>\n",
       "    <tr style=\"text-align: right;\">\n",
       "      <th></th>\n",
       "      <th>Device_Type</th>\n",
       "      <th>Status_Acces_Link</th>\n",
       "      <th>Unnamed: 2</th>\n",
       "      <th>Unnamed: 3</th>\n",
       "    </tr>\n",
       "  </thead>\n",
       "  <tbody>\n",
       "    <tr>\n",
       "      <th>0</th>\n",
       "      <td>AXO145</td>\n",
       "      <td>xcd32112.smart_meter.com</td>\n",
       "      <td>NaN</td>\n",
       "      <td>NaN</td>\n",
       "    </tr>\n",
       "    <tr>\n",
       "      <th>1</th>\n",
       "      <td>TRU151</td>\n",
       "      <td>txha112.smart_meter.com</td>\n",
       "      <td>NaN</td>\n",
       "      <td>NaN</td>\n",
       "    </tr>\n",
       "    <tr>\n",
       "      <th>2</th>\n",
       "      <td>ZOD231</td>\n",
       "      <td>xcd32112.smart_meter.com</td>\n",
       "      <td>NaN</td>\n",
       "      <td>NaN</td>\n",
       "    </tr>\n",
       "    <tr>\n",
       "      <th>3</th>\n",
       "      <td>YRT326</td>\n",
       "      <td>xkll2112.smart_meter.com</td>\n",
       "      <td>NaN</td>\n",
       "      <td>NaN</td>\n",
       "    </tr>\n",
       "    <tr>\n",
       "      <th>4</th>\n",
       "      <td>LWR245&lt;url&gt;https://xcd32112.smart_meter.com&lt;/url&gt;</td>\n",
       "      <td>xcd32112.smart_meter.com</td>\n",
       "      <td>NaN</td>\n",
       "      <td>NaN</td>\n",
       "    </tr>\n",
       "  </tbody>\n",
       "</table>\n",
       "</div>"
      ],
      "text/plain": [
       "                                         Device_Type  \\\n",
       "0                                             AXO145   \n",
       "1                                             TRU151   \n",
       "2                                             ZOD231   \n",
       "3                                             YRT326   \n",
       "4  LWR245<url>https://xcd32112.smart_meter.com</url>   \n",
       "\n",
       "          Status_Acces_Link  Unnamed: 2 Unnamed: 3  \n",
       "0  xcd32112.smart_meter.com         NaN        NaN  \n",
       "1   txha112.smart_meter.com         NaN        NaN  \n",
       "2  xcd32112.smart_meter.com         NaN        NaN  \n",
       "3  xkll2112.smart_meter.com         NaN        NaN  \n",
       "4  xcd32112.smart_meter.com         NaN        NaN  "
      ]
     },
     "execution_count": 41,
     "metadata": {},
     "output_type": "execute_result"
    }
   ],
   "source": [
    "data_set"
   ]
  }
 ],
 "metadata": {
  "kernelspec": {
   "display_name": "Python 3",
   "language": "python",
   "name": "python3"
  },
  "language_info": {
   "codemirror_mode": {
    "name": "ipython",
    "version": 3
   },
   "file_extension": ".py",
   "mimetype": "text/x-python",
   "name": "python",
   "nbconvert_exporter": "python",
   "pygments_lexer": "ipython3",
   "version": "3.8.8"
  }
 },
 "nbformat": 4,
 "nbformat_minor": 5
}
